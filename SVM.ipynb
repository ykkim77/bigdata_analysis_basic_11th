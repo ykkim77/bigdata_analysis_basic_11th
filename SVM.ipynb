{
 "cells": [
  {
   "cell_type": "code",
   "execution_count": null,
   "id": "ecb58ee1",
   "metadata": {},
   "outputs": [],
   "source": [
    "from sklearn.datasets import load_breast_cancer \n",
    "cancer=load_breast_cancer()"
   ]
  },
  {
   "cell_type": "code",
   "execution_count": null,
   "id": "6ded9da6",
   "metadata": {},
   "outputs": [],
   "source": [
    "from sklearn.model_selection import train_test_split\n",
    "X_train, X_test, y_train, y_test = train_test_split(cancer.data, cancer.target,\n",
    "                                                    stratify=cancer.target, \n",
    "                                                    random_state=1)"
   ]
  },
  {
   "cell_type": "code",
   "execution_count": null,
   "id": "c836a5fb",
   "metadata": {},
   "outputs": [],
   "source": [
    "\n",
    "from sklearn.preprocessing import MinMaxScaler \n",
    "scaler=MinMaxScaler() "
   ]
  },
  {
   "cell_type": "code",
   "execution_count": null,
   "id": "1c70983f",
   "metadata": {},
   "outputs": [],
   "source": [
    "\n",
    "from sklearn.svm import SVC\n",
    "\n",
    "base_model = SVC(random_state=1) #rbf\n",
    "linear_model = SVC(kernel=\"linear\", random_state=1) \n",
    "poly_model = SVC(kernel=\"poly\", random_state=1)\n",
    "     "
   ]
  },
  {
   "cell_type": "code",
   "execution_count": null,
   "id": "fb56d2b1",
   "metadata": {},
   "outputs": [],
   "source": [
    "\n",
    "from sklearn.pipeline import Pipeline\n",
    "pipe=Pipeline([('scaler',scaler), ('base_model',linear_model)])"
   ]
  },
  {
   "cell_type": "code",
   "execution_count": null,
   "id": "7e7d2a88",
   "metadata": {},
   "outputs": [],
   "source": [
    "\n",
    "\n",
    "from sklearn.model_selection import KFold,GridSearchCV \n",
    "kfold=KFold(n_splits=3, shuffle=True, random_state=1)\n",
    "\n",
    "param_grid={'base_model__C':[0.0001, 0.001, 0.01, 0.1, 1, 10, 100, 1000],\n",
    "            'base_model__gamma':[0.0001, 0.001, 0.01, 0.1, 1, 10, 100, 1000],\n",
    "            'base_model__degree':[1,2,3,4,5]}\n",
    "\n",
    "grid_model=GridSearchCV(estimator=pipe, param_grid=param_grid, cv=kfold, n_jobs=-1).fit(X_train, y_train)"
   ]
  },
  {
   "cell_type": "code",
   "execution_count": null,
   "id": "2e1708c2",
   "metadata": {},
   "outputs": [],
   "source": [
    "\n",
    "print('교차검증 점수 : ', grid_model.best_score_) \n",
    "print('최적의 하이퍼 파라메터 조합 :', grid_model.best_params_) "
   ]
  }
 ],
 "metadata": {
  "language_info": {
   "name": "python"
  }
 },
 "nbformat": 4,
 "nbformat_minor": 5
}

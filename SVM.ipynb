{
 "cells": [
  {
   "cell_type": "code",
   "execution_count": 21,
   "id": "ecb58ee1",
   "metadata": {},
   "outputs": [
    {
     "name": "stdout",
     "output_type": "stream",
     "text": [
      "✔️ CSV 파일로 저장 완료: cleaned_breast_cancer_data.csv\n"
     ]
    }
   ],
   "source": [
    "import pandas as pd\n",
    "\n",
    "# 1. 데이터 URL 및 컬럼명 정의\n",
    "url = \"https://archive.ics.uci.edu/ml/machine-learning-databases/breast-cancer-wisconsin/breast-cancer-wisconsin.data\"\n",
    "\n",
    "column_names = [\n",
    "    \"id_number\", \"clump_thickness\", \"uniformity_of_cell_size\", \"uniformity_of_cell_shape\",\n",
    "    \"marginal_adhesion\", \"single_epithelial_cell_size\", \"bare_nuclei\", \"bland_chromatin\",\n",
    "    \"normal_nucleoli\", \"mitoses\", \"target\"\n",
    "]\n",
    "\n",
    "# 2. 데이터 불러오기\n",
    "df = pd.read_csv(url, header=None, names=column_names)\n",
    "\n",
    "# 3. 결측치(?)를 NaN으로 변환하고 bare_nuclei 컬럼을 숫자형으로 변환\n",
    "df['bare_nuclei'].replace('?', pd.NA, inplace=True)\n",
    "df['bare_nuclei'] = pd.to_numeric(df['bare_nuclei'])\n",
    "\n",
    "# 4. 결측치가 있는 행 제거\n",
    "df = df.dropna()\n",
    "\n",
    "# 5. target 값 2(양성) → 0, 4(악성) → 1로 변환\n",
    "df['target'] = df['target'].map({2: 0, 4: 1})\n",
    "\n",
    "# 6. 결과 저장\n",
    "df.to_csv(\"cleaned_breast_cancer_data.csv\", index=False)\n",
    "\n",
    "print(\"✔️ CSV 파일로 저장 완료: cleaned_breast_cancer_data.csv\")"
   ]
  },
  {
   "cell_type": "code",
   "execution_count": 18,
   "id": "22824d84",
   "metadata": {},
   "outputs": [
    {
     "name": "stdout",
     "output_type": "stream",
     "text": [
      "   id_number  clump_thickness  uniformity_of_cell_size  \\\n",
      "0    1000025                5                        1   \n",
      "1    1002945                5                        4   \n",
      "2    1015425                3                        1   \n",
      "3    1016277                6                        8   \n",
      "4    1017023                4                        1   \n",
      "\n",
      "   uniformity_of_cell_shape  marginal_adhesion  single_epithelial_cell_size  \\\n",
      "0                         1                  1                            2   \n",
      "1                         4                  5                            7   \n",
      "2                         1                  1                            2   \n",
      "3                         8                  1                            3   \n",
      "4                         1                  3                            2   \n",
      "\n",
      "  bare_nuclei  bland_chromatin  normal_nucleoli  mitoses  target  \n",
      "0           1                3                1        1       2  \n",
      "1          10                3                2        1       2  \n",
      "2           2                3                1        1       2  \n",
      "3           4                3                7        1       2  \n",
      "4           1                3                1        1       2  \n",
      "\n",
      "결측치 포함 여부 확인:\n",
      "id_number                      0\n",
      "clump_thickness                0\n",
      "uniformity_of_cell_size        0\n",
      "uniformity_of_cell_shape       0\n",
      "marginal_adhesion              0\n",
      "single_epithelial_cell_size    0\n",
      "bare_nuclei                    0\n",
      "bland_chromatin                0\n",
      "normal_nucleoli                0\n",
      "mitoses                        0\n",
      "target                         0\n",
      "dtype: int64\n"
     ]
    }
   ],
   "source": [
    "# 데이터 확인\n",
    "print(df.head())\n",
    "print(\"\\n결측치 포함 여부 확인:\")\n",
    "print(df.isnull().sum())\n"
   ]
  },
  {
   "cell_type": "code",
   "execution_count": 19,
   "id": "0875eb79",
   "metadata": {},
   "outputs": [],
   "source": [
    "df['bare_nuclei'].replace('?', pd.NA, inplace=True)\n",
    "df['bare_nuclei'] = pd.to_numeric(df['bare_nuclei'])\n",
    "\n",
    "# 결측치 처리 (예: 삭제)\n",
    "df = df.dropna()\n",
    "\n",
    "# 라벨을 0/1로 변환: 2=양성(benign), 4=악성(malignant)\n",
    "df['target'] = df['target'].map({2: 0, 4: 1})"
   ]
  },
  {
   "cell_type": "code",
   "execution_count": null,
   "id": "6ded9da6",
   "metadata": {},
   "outputs": [],
   "source": [
    "from sklearn.model_selection import train_test_split\n",
    "\n",
    "# 학습/테스트 데이터 분할 (계층적 샘플링 stratify로 클래스 비율 유지)\n",
    "X_train, X_test, y_train, y_test = train_test_split(cancer.data, cancer.target,    \n",
    "                                                    stratify=cancer.target, \n",
    "                                                    random_state=1)    "
   ]
  },
  {
   "cell_type": "code",
   "execution_count": null,
   "id": "c836a5fb",
   "metadata": {},
   "outputs": [],
   "source": [
    "\n",
    "from sklearn.preprocessing import MinMaxScaler \n",
    "scaler=MinMaxScaler()     # 특성값을 [0, 1] 사이로 정규화 "
   ]
  },
  {
   "cell_type": "code",
   "execution_count": 4,
   "id": "1c70983f",
   "metadata": {},
   "outputs": [],
   "source": [
    "\n",
    "from sklearn.svm import SVC\n",
    "\n",
    "base_model = SVC(random_state=1) #rbf\n",
    "linear_model = SVC(kernel=\"linear\", random_state=1) \n",
    "poly_model = SVC(kernel=\"poly\", random_state=1)\n",
    "     "
   ]
  },
  {
   "cell_type": "code",
   "execution_count": 5,
   "id": "fb56d2b1",
   "metadata": {},
   "outputs": [],
   "source": [
    "\n",
    "from sklearn.pipeline import Pipeline\n",
    "pipe=Pipeline([('scaler',scaler), ('base_model',linear_model)])"
   ]
  },
  {
   "cell_type": "code",
   "execution_count": 6,
   "id": "7e7d2a88",
   "metadata": {},
   "outputs": [],
   "source": [
    "\n",
    "\n",
    "from sklearn.model_selection import KFold,GridSearchCV \n",
    "kfold=KFold(n_splits=3, shuffle=True, random_state=1)\n",
    "\n",
    "param_grid={'base_model__C':[0.0001, 0.001, 0.01, 0.1, 1, 10, 100, 1000],\n",
    "            'base_model__gamma':[0.0001, 0.001, 0.01, 0.1, 1, 10, 100, 1000],\n",
    "            'base_model__degree':[1,2,3,4,5]}\n",
    "\n",
    "grid_model=GridSearchCV(estimator=pipe, param_grid=param_grid, cv=kfold, n_jobs=-1).fit(X_train, y_train)"
   ]
  },
  {
   "cell_type": "code",
   "execution_count": 7,
   "id": "2e1708c2",
   "metadata": {},
   "outputs": [
    {
     "name": "stdout",
     "output_type": "stream",
     "text": [
      "교차검증 점수 :  0.9741784037558686\n",
      "최적의 하이퍼 파라메터 조합 : {'base_model__C': 10, 'base_model__degree': 1, 'base_model__gamma': 0.0001}\n"
     ]
    }
   ],
   "source": [
    "\n",
    "print('교차검증 점수 : ', grid_model.best_score_) \n",
    "print('최적의 하이퍼 파라메터 조합 :', grid_model.best_params_) "
   ]
  }
 ],
 "metadata": {
  "kernelspec": {
   "display_name": "Python 3",
   "language": "python",
   "name": "python3"
  },
  "language_info": {
   "codemirror_mode": {
    "name": "ipython",
    "version": 3
   },
   "file_extension": ".py",
   "mimetype": "text/x-python",
   "name": "python",
   "nbconvert_exporter": "python",
   "pygments_lexer": "ipython3",
   "version": "3.12.0"
  }
 },
 "nbformat": 4,
 "nbformat_minor": 5
}

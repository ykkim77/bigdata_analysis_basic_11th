{
 "cells": [
  {
   "cell_type": "markdown",
   "id": "4ec873af",
   "metadata": {},
   "source": [
    "# 유방암 데이터셋 기반 SVM 분류"
   ]
  },
  {
   "cell_type": "code",
   "execution_count": 2,
   "id": "ecb58ee1",
   "metadata": {},
   "outputs": [
    {
     "data": {
      "text/html": [
       "<div>\n",
       "<style scoped>\n",
       "    .dataframe tbody tr th:only-of-type {\n",
       "        vertical-align: middle;\n",
       "    }\n",
       "\n",
       "    .dataframe tbody tr th {\n",
       "        vertical-align: top;\n",
       "    }\n",
       "\n",
       "    .dataframe thead th {\n",
       "        text-align: right;\n",
       "    }\n",
       "</style>\n",
       "<table border=\"1\" class=\"dataframe\">\n",
       "  <thead>\n",
       "    <tr style=\"text-align: right;\">\n",
       "      <th></th>\n",
       "      <th>id_number</th>\n",
       "      <th>clump_thickness</th>\n",
       "      <th>uniformity_of_cell_size</th>\n",
       "      <th>uniformity_of_cell_shape</th>\n",
       "      <th>marginal_adhesion</th>\n",
       "      <th>single_epithelial_cell_size</th>\n",
       "      <th>bare_nuclei</th>\n",
       "      <th>bland_chromatin</th>\n",
       "      <th>normal_nucleoli</th>\n",
       "      <th>mitoses</th>\n",
       "      <th>target</th>\n",
       "    </tr>\n",
       "  </thead>\n",
       "  <tbody>\n",
       "    <tr>\n",
       "      <th>0</th>\n",
       "      <td>1000025</td>\n",
       "      <td>5</td>\n",
       "      <td>1</td>\n",
       "      <td>1</td>\n",
       "      <td>1</td>\n",
       "      <td>2</td>\n",
       "      <td>1.0</td>\n",
       "      <td>3</td>\n",
       "      <td>1</td>\n",
       "      <td>1</td>\n",
       "      <td>0</td>\n",
       "    </tr>\n",
       "    <tr>\n",
       "      <th>1</th>\n",
       "      <td>1002945</td>\n",
       "      <td>5</td>\n",
       "      <td>4</td>\n",
       "      <td>4</td>\n",
       "      <td>5</td>\n",
       "      <td>7</td>\n",
       "      <td>10.0</td>\n",
       "      <td>3</td>\n",
       "      <td>2</td>\n",
       "      <td>1</td>\n",
       "      <td>0</td>\n",
       "    </tr>\n",
       "    <tr>\n",
       "      <th>2</th>\n",
       "      <td>1015425</td>\n",
       "      <td>3</td>\n",
       "      <td>1</td>\n",
       "      <td>1</td>\n",
       "      <td>1</td>\n",
       "      <td>2</td>\n",
       "      <td>2.0</td>\n",
       "      <td>3</td>\n",
       "      <td>1</td>\n",
       "      <td>1</td>\n",
       "      <td>0</td>\n",
       "    </tr>\n",
       "    <tr>\n",
       "      <th>3</th>\n",
       "      <td>1016277</td>\n",
       "      <td>6</td>\n",
       "      <td>8</td>\n",
       "      <td>8</td>\n",
       "      <td>1</td>\n",
       "      <td>3</td>\n",
       "      <td>4.0</td>\n",
       "      <td>3</td>\n",
       "      <td>7</td>\n",
       "      <td>1</td>\n",
       "      <td>0</td>\n",
       "    </tr>\n",
       "    <tr>\n",
       "      <th>4</th>\n",
       "      <td>1017023</td>\n",
       "      <td>4</td>\n",
       "      <td>1</td>\n",
       "      <td>1</td>\n",
       "      <td>3</td>\n",
       "      <td>2</td>\n",
       "      <td>1.0</td>\n",
       "      <td>3</td>\n",
       "      <td>1</td>\n",
       "      <td>1</td>\n",
       "      <td>0</td>\n",
       "    </tr>\n",
       "  </tbody>\n",
       "</table>\n",
       "</div>"
      ],
      "text/plain": [
       "   id_number  clump_thickness  uniformity_of_cell_size  \\\n",
       "0    1000025                5                        1   \n",
       "1    1002945                5                        4   \n",
       "2    1015425                3                        1   \n",
       "3    1016277                6                        8   \n",
       "4    1017023                4                        1   \n",
       "\n",
       "   uniformity_of_cell_shape  marginal_adhesion  single_epithelial_cell_size  \\\n",
       "0                         1                  1                            2   \n",
       "1                         4                  5                            7   \n",
       "2                         1                  1                            2   \n",
       "3                         8                  1                            3   \n",
       "4                         1                  3                            2   \n",
       "\n",
       "   bare_nuclei  bland_chromatin  normal_nucleoli  mitoses  target  \n",
       "0          1.0                3                1        1       0  \n",
       "1         10.0                3                2        1       0  \n",
       "2          2.0                3                1        1       0  \n",
       "3          4.0                3                7        1       0  \n",
       "4          1.0                3                1        1       0  "
      ]
     },
     "execution_count": 2,
     "metadata": {},
     "output_type": "execute_result"
    }
   ],
   "source": [
    "import pandas as pd\n",
    "# 데이터 불러오기\n",
    "url = 'https://raw.githubusercontent.com/ykkim77/bigdata_analysis_basic_11th/main/cleaned_breast_cancer_data.csv'\n",
    "cancer = pd.read_csv(url)\n",
    "\n",
    "cancer.head(5) # 데이터 예시 확인"
   ]
  },
  {
   "cell_type": "code",
   "execution_count": 3,
   "id": "2f128f68",
   "metadata": {},
   "outputs": [],
   "source": [
    "# 독립변수(X)와 종속변수(y) 분리\n",
    "X = cancer.drop(columns=['id_number', 'target'])  # id는 분석에 불필요하므로 제외\n",
    "y = cancer['target']"
   ]
  },
  {
   "cell_type": "code",
   "execution_count": 4,
   "id": "6ded9da6",
   "metadata": {},
   "outputs": [],
   "source": [
    "from sklearn.model_selection import train_test_split\n",
    "\n",
    "# 학습/테스트 데이터 분할 (계층적 샘플링 stratify로 클래스 비율 유지)\n",
    "X_train, X_test, y_train, y_test = train_test_split(\n",
    "    X, y,\n",
    "    stratify=y,\n",
    "    random_state=1\n",
    ") "
   ]
  },
  {
   "cell_type": "code",
   "execution_count": null,
   "id": "c836a5fb",
   "metadata": {},
   "outputs": [],
   "source": [
    "from sklearn.preprocessing import MinMaxScaler \n",
    "scaler=MinMaxScaler()     # 특성값을 [0, 1] 사이로 정규화 "
   ]
  },
  {
   "cell_type": "code",
   "execution_count": 6,
   "id": "1c70983f",
   "metadata": {},
   "outputs": [],
   "source": [
    "from sklearn.svm import SVC  # SVM(Support Vector Machine) 분류기 클래스 불러오기\n",
    "\n",
    "# 기본 SVM 모델 (커널 기본값: RBF 커널 사용)\n",
    "RBF_model = SVC(random_state=1)\n",
    "\n",
    "# 선형 커널 SVM 모델 정의 (고차원으로 매핑 없이 직선 또는 초평면으로 분리)\n",
    "linear_model = SVC(kernel=\"linear\", random_state=1)\n",
    "\n",
    "# 다항식 커널 SVM 모델 정의 (비선형 경계 표현 가능, degree 파라미터로 차수 조절)\n",
    "poly_model = SVC(kernel=\"poly\", random_state=1)"
   ]
  },
  {
   "cell_type": "code",
   "execution_count": null,
   "id": "fb56d2b1",
   "metadata": {},
   "outputs": [],
   "source": [
    "from sklearn.pipeline import Pipeline\n",
    "pipe=Pipeline([('scaler',scaler), ('base_model',poly_model)])"
   ]
  },
  {
   "cell_type": "code",
   "execution_count": null,
   "id": "7e7d2a88",
   "metadata": {},
   "outputs": [],
   "source": [
    "from sklearn.model_selection import KFold,GridSearchCV \n",
    "kfold=KFold(n_splits=3, shuffle=True, random_state=1)\n",
    "\n",
    "param_grid={'base_model__C':[0.0001, 0.001, 0.01, 0.1, 1, 10, 100, 1000],\n",
    "            'base_model__gamma':[0.0001, 0.001, 0.01, 0.1, 1, 10, 100, 1000],\n",
    "            'base_model__degree':[1,2,3,4,5]}\n",
    "\n",
    "# 데이터를 3개의 폴드(fold)로 나눠 학습/검증을 반복, n_jobs=-1: 가능한 모든 CPU 코어를 사용해 병렬처리를 수행\n",
    "grid_model=GridSearchCV(estimator=pipe, param_grid=param_grid, cv=kfold, n_jobs=-1).fit(X_train, y_train) "
   ]
  },
  {
   "cell_type": "code",
   "execution_count": null,
   "id": "2e1708c2",
   "metadata": {},
   "outputs": [
    {
     "name": "stdout",
     "output_type": "stream",
     "text": [
      "교차검증 점수 :  0.9765623208347667\n",
      "최적의 하이퍼 파라메터 조합 : {'base_model__C': 0.0001, 'base_model__degree': 2, 'base_model__gamma': 100}\n"
     ]
    }
   ],
   "source": [
    "print('교차검증 점수 : ', grid_model.best_score_)    # accuracy 기준의 교처검증 score\n",
    "print('최적의 하이퍼 파라메터 조합 :', grid_model.best_params_) "
   ]
  }
 ],
 "metadata": {
  "kernelspec": {
   "display_name": "Python 3",
   "language": "python",
   "name": "python3"
  },
  "language_info": {
   "codemirror_mode": {
    "name": "ipython",
    "version": 3
   },
   "file_extension": ".py",
   "mimetype": "text/x-python",
   "name": "python",
   "nbconvert_exporter": "python",
   "pygments_lexer": "ipython3",
   "version": "3.12.0"
  }
 },
 "nbformat": 4,
 "nbformat_minor": 5
}
